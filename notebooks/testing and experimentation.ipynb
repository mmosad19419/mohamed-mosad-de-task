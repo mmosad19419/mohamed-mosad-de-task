{
 "cells": [
  {
   "cell_type": "code",
   "execution_count": 1,
   "id": "366c90bc-6c88-45aa-bbe2-9e189eb2797d",
   "metadata": {},
   "outputs": [],
   "source": [
    "# imports\n",
    "import os\n",
    "from datetime import datetime\n",
    "import requests\n",
    "import json"
   ]
  },
  {
   "cell_type": "code",
   "execution_count": 4,
   "id": "1e37dcea-52eb-450c-a639-6e0fc65b5e63",
   "metadata": {},
   "outputs": [],
   "source": [
    "# Parsing the configration file\n",
    "with open('../config.json') as config_file:\n",
    "    configs = json.load(config_file)\n",
    "\n",
    "# retrieve API credientials\n",
    "NYT_BOOKS_API_KEY = configs[\"API\"][\"NYT_BOOKS_API_KEY\"]\n",
    "NYT_BOOKS_API_SECRET = configs[\"API\"][\"NYT_BOOKS_API_SECRET\"]\n",
    "NYT_BOOKS_API_ENDPOINT = configs[\"API\"][\"NYT_API_ENDPOINT\"]"
   ]
  },
  {
   "cell_type": "code",
   "execution_count": null,
   "id": "1d29548e-a1a0-4184-8331-711b271292d2",
   "metadata": {},
   "outputs": [],
   "source": []
  }
 ],
 "metadata": {
  "kernelspec": {
   "display_name": "Python 3 (ipykernel)",
   "language": "python",
   "name": "python3"
  },
  "language_info": {
   "codemirror_mode": {
    "name": "ipython",
    "version": 3
   },
   "file_extension": ".py",
   "mimetype": "text/x-python",
   "name": "python",
   "nbconvert_exporter": "python",
   "pygments_lexer": "ipython3",
   "version": "3.8.13"
  }
 },
 "nbformat": 4,
 "nbformat_minor": 5
}
